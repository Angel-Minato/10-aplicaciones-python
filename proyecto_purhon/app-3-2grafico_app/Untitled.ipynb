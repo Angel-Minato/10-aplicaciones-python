{
 "cells": [
  {
   "cell_type": "markdown",
   "id": "b5573ded-7a48-4478-98ae-39f431cc913f",
   "metadata": {},
   "source": [
    "## APP graficos web"
   ]
  },
  {
   "cell_type": "code",
   "execution_count": 17,
   "id": "814fe510-a9d6-4442-878e-a0dca3d85041",
   "metadata": {},
   "outputs": [],
   "source": [
    "import pandas as pd\n",
    "from datetime import datetime\n",
    "from pytz import utc\n",
    "dt = pd.read_csv(\"reviews.csv\", parse_dates=['Timestamp'])"
   ]
  },
  {
   "cell_type": "code",
   "execution_count": 2,
   "id": "ea746bcb-5318-4e63-a41b-130c8931fa9a",
   "metadata": {},
   "outputs": [
    {
     "data": {
      "text/html": [
       "<div>\n",
       "<style scoped>\n",
       "    .dataframe tbody tr th:only-of-type {\n",
       "        vertical-align: middle;\n",
       "    }\n",
       "\n",
       "    .dataframe tbody tr th {\n",
       "        vertical-align: top;\n",
       "    }\n",
       "\n",
       "    .dataframe thead th {\n",
       "        text-align: right;\n",
       "    }\n",
       "</style>\n",
       "<table border=\"1\" class=\"dataframe\">\n",
       "  <thead>\n",
       "    <tr style=\"text-align: right;\">\n",
       "      <th></th>\n",
       "      <th>Course Name</th>\n",
       "      <th>Timestamp</th>\n",
       "      <th>Rating</th>\n",
       "      <th>Comment</th>\n",
       "    </tr>\n",
       "  </thead>\n",
       "  <tbody>\n",
       "    <tr>\n",
       "      <th>0</th>\n",
       "      <td>The Python Mega Course: Build 10 Real World Ap...</td>\n",
       "      <td>2021-04-02 06:25:52+00:00</td>\n",
       "      <td>4.0</td>\n",
       "      <td>NaN</td>\n",
       "    </tr>\n",
       "    <tr>\n",
       "      <th>1</th>\n",
       "      <td>The Python Mega Course: Build 10 Real World Ap...</td>\n",
       "      <td>2021-04-02 05:12:34+00:00</td>\n",
       "      <td>4.0</td>\n",
       "      <td>NaN</td>\n",
       "    </tr>\n",
       "    <tr>\n",
       "      <th>2</th>\n",
       "      <td>The Python Mega Course: Build 10 Real World Ap...</td>\n",
       "      <td>2021-04-02 05:11:03+00:00</td>\n",
       "      <td>4.0</td>\n",
       "      <td>NaN</td>\n",
       "    </tr>\n",
       "    <tr>\n",
       "      <th>3</th>\n",
       "      <td>The Python Mega Course: Build 10 Real World Ap...</td>\n",
       "      <td>2021-04-02 03:33:24+00:00</td>\n",
       "      <td>5.0</td>\n",
       "      <td>NaN</td>\n",
       "    </tr>\n",
       "    <tr>\n",
       "      <th>4</th>\n",
       "      <td>The Python Mega Course: Build 10 Real World Ap...</td>\n",
       "      <td>2021-04-02 03:31:49+00:00</td>\n",
       "      <td>4.5</td>\n",
       "      <td>NaN</td>\n",
       "    </tr>\n",
       "  </tbody>\n",
       "</table>\n",
       "</div>"
      ],
      "text/plain": [
       "                                         Course Name  \\\n",
       "0  The Python Mega Course: Build 10 Real World Ap...   \n",
       "1  The Python Mega Course: Build 10 Real World Ap...   \n",
       "2  The Python Mega Course: Build 10 Real World Ap...   \n",
       "3  The Python Mega Course: Build 10 Real World Ap...   \n",
       "4  The Python Mega Course: Build 10 Real World Ap...   \n",
       "\n",
       "                   Timestamp  Rating Comment  \n",
       "0  2021-04-02 06:25:52+00:00     4.0     NaN  \n",
       "1  2021-04-02 05:12:34+00:00     4.0     NaN  \n",
       "2  2021-04-02 05:11:03+00:00     4.0     NaN  \n",
       "3  2021-04-02 03:33:24+00:00     5.0     NaN  \n",
       "4  2021-04-02 03:31:49+00:00     4.5     NaN  "
      ]
     },
     "execution_count": 2,
     "metadata": {},
     "output_type": "execute_result"
    }
   ],
   "source": [
    "dt.head()"
   ]
  },
  {
   "cell_type": "code",
   "execution_count": 3,
   "id": "8e425384-e1fb-487e-a076-4be313706b7e",
   "metadata": {},
   "outputs": [
    {
     "data": {
      "text/plain": [
       "0        The Python Mega Course: Build 10 Real World Ap...\n",
       "1        The Python Mega Course: Build 10 Real World Ap...\n",
       "2        The Python Mega Course: Build 10 Real World Ap...\n",
       "3        The Python Mega Course: Build 10 Real World Ap...\n",
       "4        The Python Mega Course: Build 10 Real World Ap...\n",
       "                               ...                        \n",
       "44995                   Python for Beginners with Examples\n",
       "44996    The Python Mega Course: Build 10 Real World Ap...\n",
       "44997    The Python Mega Course: Build 10 Real World Ap...\n",
       "44998                   Python for Beginners with Examples\n",
       "44999    The Python Mega Course: Build 10 Real World Ap...\n",
       "Name: Course Name, Length: 45000, dtype: object"
      ]
     },
     "execution_count": 3,
     "metadata": {},
     "output_type": "execute_result"
    }
   ],
   "source": [
    "dt['Course Name']"
   ]
  },
  {
   "cell_type": "code",
   "execution_count": 4,
   "id": "41dfabbc-653f-4739-96f2-9b4697c24a52",
   "metadata": {},
   "outputs": [
    {
     "data": {
      "text/plain": [
       "array([[<Axes: title={'center': 'Rating'}>]], dtype=object)"
      ]
     },
     "execution_count": 4,
     "metadata": {},
     "output_type": "execute_result"
    },
    {
     "data": {
      "image/png": "[encoded data removed]",
      "text/plain": [
       "<Figure size 640x480 with 1 Axes>"
      ]
     },
     "metadata": {},
     "output_type": "display_data"
    }
   ],
   "source": [
    "dt.hist(\"Rating\")"
   ]
  },
  {
   "cell_type": "markdown",
   "id": "7c8f2cbb-337e-445b-88dd-46bd7edabdad",
   "metadata": {},
   "source": [
    "### seleccion de columna"
   ]
  },
  {
   "cell_type": "code",
   "execution_count": 5,
   "id": "4d9758ea-a98d-4b39-bb98-f3fc6ed22a4e",
   "metadata": {},
   "outputs": [
    {
     "data": {
      "text/html": [
       "<div>\n",
       "<style scoped>\n",
       "    .dataframe tbody tr th:only-of-type {\n",
       "        vertical-align: middle;\n",
       "    }\n",
       "\n",
       "    .dataframe tbody tr th {\n",
       "        vertical-align: top;\n",
       "    }\n",
       "\n",
       "    .dataframe thead th {\n",
       "        text-align: right;\n",
       "    }\n",
       "</style>\n",
       "<table border=\"1\" class=\"dataframe\">\n",
       "  <thead>\n",
       "    <tr style=\"text-align: right;\">\n",
       "      <th></th>\n",
       "      <th>Course Name</th>\n",
       "      <th>Timestamp</th>\n",
       "      <th>Rating</th>\n",
       "      <th>Comment</th>\n",
       "    </tr>\n",
       "  </thead>\n",
       "  <tbody>\n",
       "    <tr>\n",
       "      <th>0</th>\n",
       "      <td>The Python Mega Course: Build 10 Real World Ap...</td>\n",
       "      <td>2021-04-02 06:25:52+00:00</td>\n",
       "      <td>4.0</td>\n",
       "      <td>NaN</td>\n",
       "    </tr>\n",
       "    <tr>\n",
       "      <th>1</th>\n",
       "      <td>The Python Mega Course: Build 10 Real World Ap...</td>\n",
       "      <td>2021-04-02 05:12:34+00:00</td>\n",
       "      <td>4.0</td>\n",
       "      <td>NaN</td>\n",
       "    </tr>\n",
       "    <tr>\n",
       "      <th>2</th>\n",
       "      <td>The Python Mega Course: Build 10 Real World Ap...</td>\n",
       "      <td>2021-04-02 05:11:03+00:00</td>\n",
       "      <td>4.0</td>\n",
       "      <td>NaN</td>\n",
       "    </tr>\n",
       "    <tr>\n",
       "      <th>3</th>\n",
       "      <td>The Python Mega Course: Build 10 Real World Ap...</td>\n",
       "      <td>2021-04-02 03:33:24+00:00</td>\n",
       "      <td>5.0</td>\n",
       "      <td>NaN</td>\n",
       "    </tr>\n",
       "    <tr>\n",
       "      <th>4</th>\n",
       "      <td>The Python Mega Course: Build 10 Real World Ap...</td>\n",
       "      <td>2021-04-02 03:31:49+00:00</td>\n",
       "      <td>4.5</td>\n",
       "      <td>NaN</td>\n",
       "    </tr>\n",
       "    <tr>\n",
       "      <th>5</th>\n",
       "      <td>The Python Mega Course: Build 10 Real World Ap...</td>\n",
       "      <td>2021-04-02 01:10:06+00:00</td>\n",
       "      <td>4.5</td>\n",
       "      <td>NaN</td>\n",
       "    </tr>\n",
       "    <tr>\n",
       "      <th>6</th>\n",
       "      <td>The Python Mega Course: Build 10 Real World Ap...</td>\n",
       "      <td>2021-04-02 00:44:54+00:00</td>\n",
       "      <td>4.5</td>\n",
       "      <td>NaN</td>\n",
       "    </tr>\n",
       "    <tr>\n",
       "      <th>7</th>\n",
       "      <td>The Python Mega Course: Build 10 Real World Ap...</td>\n",
       "      <td>2021-04-01 23:42:02+00:00</td>\n",
       "      <td>5.0</td>\n",
       "      <td>NaN</td>\n",
       "    </tr>\n",
       "    <tr>\n",
       "      <th>8</th>\n",
       "      <td>The Python Mega Course: Build 10 Real World Ap...</td>\n",
       "      <td>2021-04-01 21:58:40+00:00</td>\n",
       "      <td>5.0</td>\n",
       "      <td>NaN</td>\n",
       "    </tr>\n",
       "    <tr>\n",
       "      <th>9</th>\n",
       "      <td>The Python Mega Course: Build 10 Real World Ap...</td>\n",
       "      <td>2021-04-01 20:13:27+00:00</td>\n",
       "      <td>5.0</td>\n",
       "      <td>NaN</td>\n",
       "    </tr>\n",
       "  </tbody>\n",
       "</table>\n",
       "</div>"
      ],
      "text/plain": [
       "                                         Course Name  \\\n",
       "0  The Python Mega Course: Build 10 Real World Ap...   \n",
       "1  The Python Mega Course: Build 10 Real World Ap...   \n",
       "2  The Python Mega Course: Build 10 Real World Ap...   \n",
       "3  The Python Mega Course: Build 10 Real World Ap...   \n",
       "4  The Python Mega Course: Build 10 Real World Ap...   \n",
       "5  The Python Mega Course: Build 10 Real World Ap...   \n",
       "6  The Python Mega Course: Build 10 Real World Ap...   \n",
       "7  The Python Mega Course: Build 10 Real World Ap...   \n",
       "8  The Python Mega Course: Build 10 Real World Ap...   \n",
       "9  The Python Mega Course: Build 10 Real World Ap...   \n",
       "\n",
       "                   Timestamp  Rating Comment  \n",
       "0  2021-04-02 06:25:52+00:00     4.0     NaN  \n",
       "1  2021-04-02 05:12:34+00:00     4.0     NaN  \n",
       "2  2021-04-02 05:11:03+00:00     4.0     NaN  \n",
       "3  2021-04-02 03:33:24+00:00     5.0     NaN  \n",
       "4  2021-04-02 03:31:49+00:00     4.5     NaN  \n",
       "5  2021-04-02 01:10:06+00:00     4.5     NaN  \n",
       "6  2021-04-02 00:44:54+00:00     4.5     NaN  \n",
       "7  2021-04-01 23:42:02+00:00     5.0     NaN  \n",
       "8  2021-04-01 21:58:40+00:00     5.0     NaN  \n",
       "9  2021-04-01 20:13:27+00:00     5.0     NaN  "
      ]
     },
     "execution_count": 5,
     "metadata": {},
     "output_type": "execute_result"
    }
   ],
   "source": [
    "dt.iloc[0:10]"
   ]
  },
  {
   "cell_type": "markdown",
   "id": "3583d914-c619-4fad-b1e8-6cfea047c989",
   "metadata": {},
   "source": [
    "### selecion de una columna"
   ]
  },
  {
   "cell_type": "code",
   "execution_count": 6,
   "id": "ab87791f-1d4e-4a30-8a52-0187665ce8a8",
   "metadata": {},
   "outputs": [
    {
     "data": {
      "text/plain": [
       "4.0"
      ]
     },
     "execution_count": 6,
     "metadata": {},
     "output_type": "execute_result"
    }
   ],
   "source": [
    "dt['Rating'].iloc[1]"
   ]
  },
  {
   "cell_type": "code",
   "execution_count": 7,
   "id": "710bd0f0-6a5c-466e-8d87-d73f98e1ad6a",
   "metadata": {},
   "outputs": [
    {
     "data": {
      "text/plain": [
       "4.0"
      ]
     },
     "execution_count": 7,
     "metadata": {},
     "output_type": "execute_result"
    }
   ],
   "source": [
    "dt.at[2,'Rating']"
   ]
  },
  {
   "cell_type": "markdown",
   "id": "614b7a4d-1ffd-4c2a-a7fe-36e45dc72ef8",
   "metadata": {},
   "source": [
    "## filtrado de datos"
   ]
  },
  {
   "cell_type": "markdown",
   "id": "986bf178-3493-45df-9ea9-beac2c32c91f",
   "metadata": {},
   "source": [
    "### una condicion"
   ]
  },
  {
   "cell_type": "code",
   "execution_count": 29,
   "id": "93dbd022-5b35-4787-b69c-c88e0e4d9da8",
   "metadata": {},
   "outputs": [
    {
     "data": {
      "text/plain": [
       "4.87316015861281"
      ]
     },
     "execution_count": 29,
     "metadata": {},
     "output_type": "execute_result"
    }
   ],
   "source": [
    "dt[dt[\"Rating\"] >4][\"Rating\"].mean()"
   ]
  },
  {
   "cell_type": "code",
   "execution_count": 9,
   "id": "fef25587-6145-4de8-8350-6e42dcf9df09",
   "metadata": {},
   "outputs": [
    {
     "data": {
      "text/plain": [
       "array([[<Axes: title={'center': 'Rating'}>]], dtype=object)"
      ]
     },
     "execution_count": 9,
     "metadata": {},
     "output_type": "execute_result"
    },
    {
     "data": {
      "image/png": "[encoded data removed]",
      "text/plain": [
       "<Figure size 640x480 with 1 Axes>"
      ]
     },
     "metadata": {},
     "output_type": "display_data"
    }
   ],
   "source": [
    "dt[dt['Rating'] >= 1.5].hist()"
   ]
  },
  {
   "cell_type": "markdown",
   "id": "afc7be28-8874-4678-bd7f-318a438cc892",
   "metadata": {},
   "source": [
    "### multiple condicional"
   ]
  },
  {
   "cell_type": "code",
   "execution_count": 10,
   "id": "ca57643c-3eed-4e3d-a4ec-383f50b13889",
   "metadata": {},
   "outputs": [
    {
     "data": {
      "text/html": [
       "<div>\n",
       "<style scoped>\n",
       "    .dataframe tbody tr th:only-of-type {\n",
       "        vertical-align: middle;\n",
       "    }\n",
       "\n",
       "    .dataframe tbody tr th {\n",
       "        vertical-align: top;\n",
       "    }\n",
       "\n",
       "    .dataframe thead th {\n",
       "        text-align: right;\n",
       "    }\n",
       "</style>\n",
       "<table border=\"1\" class=\"dataframe\">\n",
       "  <thead>\n",
       "    <tr style=\"text-align: right;\">\n",
       "      <th></th>\n",
       "      <th>Course Name</th>\n",
       "      <th>Timestamp</th>\n",
       "      <th>Rating</th>\n",
       "      <th>Comment</th>\n",
       "    </tr>\n",
       "  </thead>\n",
       "  <tbody>\n",
       "    <tr>\n",
       "      <th>10</th>\n",
       "      <td>The Complete Python Course: Build 10 Professio...</td>\n",
       "      <td>2021-04-01 18:56:12+00:00</td>\n",
       "      <td>4.0</td>\n",
       "      <td>NaN</td>\n",
       "    </tr>\n",
       "    <tr>\n",
       "      <th>13</th>\n",
       "      <td>The Complete Python Course: Build 10 Professio...</td>\n",
       "      <td>2021-04-01 13:56:49+00:00</td>\n",
       "      <td>4.0</td>\n",
       "      <td>NaN</td>\n",
       "    </tr>\n",
       "    <tr>\n",
       "      <th>29</th>\n",
       "      <td>The Complete Python Course: Build 10 Professio...</td>\n",
       "      <td>2021-04-01 02:52:05+00:00</td>\n",
       "      <td>4.0</td>\n",
       "      <td>NaN</td>\n",
       "    </tr>\n",
       "    <tr>\n",
       "      <th>31</th>\n",
       "      <td>The Complete Python Course: Build 10 Professio...</td>\n",
       "      <td>2021-04-01 01:32:52+00:00</td>\n",
       "      <td>5.0</td>\n",
       "      <td>NaN</td>\n",
       "    </tr>\n",
       "    <tr>\n",
       "      <th>34</th>\n",
       "      <td>The Complete Python Course: Build 10 Professio...</td>\n",
       "      <td>2021-03-31 22:53:04+00:00</td>\n",
       "      <td>5.0</td>\n",
       "      <td>NaN</td>\n",
       "    </tr>\n",
       "    <tr>\n",
       "      <th>...</th>\n",
       "      <td>...</td>\n",
       "      <td>...</td>\n",
       "      <td>...</td>\n",
       "      <td>...</td>\n",
       "    </tr>\n",
       "    <tr>\n",
       "      <th>2501</th>\n",
       "      <td>The Complete Python Course: Build 10 Professio...</td>\n",
       "      <td>2021-01-14 21:19:44+00:00</td>\n",
       "      <td>4.5</td>\n",
       "      <td>NaN</td>\n",
       "    </tr>\n",
       "    <tr>\n",
       "      <th>2502</th>\n",
       "      <td>The Complete Python Course: Build 10 Professio...</td>\n",
       "      <td>2021-01-14 20:57:14+00:00</td>\n",
       "      <td>5.0</td>\n",
       "      <td>NaN</td>\n",
       "    </tr>\n",
       "    <tr>\n",
       "      <th>2509</th>\n",
       "      <td>The Complete Python Course: Build 10 Professio...</td>\n",
       "      <td>2021-01-14 15:46:18+00:00</td>\n",
       "      <td>5.0</td>\n",
       "      <td>NaN</td>\n",
       "    </tr>\n",
       "    <tr>\n",
       "      <th>2523</th>\n",
       "      <td>The Complete Python Course: Build 10 Professio...</td>\n",
       "      <td>2021-01-13 22:21:14+00:00</td>\n",
       "      <td>5.0</td>\n",
       "      <td>NaN</td>\n",
       "    </tr>\n",
       "    <tr>\n",
       "      <th>2525</th>\n",
       "      <td>The Complete Python Course: Build 10 Professio...</td>\n",
       "      <td>2021-01-13 20:44:02+00:00</td>\n",
       "      <td>5.0</td>\n",
       "      <td>NaN</td>\n",
       "    </tr>\n",
       "  </tbody>\n",
       "</table>\n",
       "<p>439 rows × 4 columns</p>\n",
       "</div>"
      ],
      "text/plain": [
       "                                            Course Name  \\\n",
       "10    The Complete Python Course: Build 10 Professio...   \n",
       "13    The Complete Python Course: Build 10 Professio...   \n",
       "29    The Complete Python Course: Build 10 Professio...   \n",
       "31    The Complete Python Course: Build 10 Professio...   \n",
       "34    The Complete Python Course: Build 10 Professio...   \n",
       "...                                                 ...   \n",
       "2501  The Complete Python Course: Build 10 Professio...   \n",
       "2502  The Complete Python Course: Build 10 Professio...   \n",
       "2509  The Complete Python Course: Build 10 Professio...   \n",
       "2523  The Complete Python Course: Build 10 Professio...   \n",
       "2525  The Complete Python Course: Build 10 Professio...   \n",
       "\n",
       "                      Timestamp  Rating Comment  \n",
       "10    2021-04-01 18:56:12+00:00     4.0     NaN  \n",
       "13    2021-04-01 13:56:49+00:00     4.0     NaN  \n",
       "29    2021-04-01 02:52:05+00:00     4.0     NaN  \n",
       "31    2021-04-01 01:32:52+00:00     5.0     NaN  \n",
       "34    2021-03-31 22:53:04+00:00     5.0     NaN  \n",
       "...                         ...     ...     ...  \n",
       "2501  2021-01-14 21:19:44+00:00     4.5     NaN  \n",
       "2502  2021-01-14 20:57:14+00:00     5.0     NaN  \n",
       "2509  2021-01-14 15:46:18+00:00     5.0     NaN  \n",
       "2523  2021-01-13 22:21:14+00:00     5.0     NaN  \n",
       "2525  2021-01-13 20:44:02+00:00     5.0     NaN  \n",
       "\n",
       "[439 rows x 4 columns]"
      ]
     },
     "execution_count": 10,
     "metadata": {},
     "output_type": "execute_result"
    }
   ],
   "source": [
    "dt[(dt['Rating'] >= 4) & (dt['Course Name']=='The Complete Python Course: Build 10 Professional OOP Apps')]"
   ]
  },
  {
   "cell_type": "markdown",
   "id": "7d991efb-21d0-4fba-b0c3-9f6311ccabe3",
   "metadata": {},
   "source": [
    "## filtro de fecha"
   ]
  },
  {
   "cell_type": "code",
   "execution_count": 20,
   "id": "22550901-fb22-4fe2-be4d-c5d014ee2860",
   "metadata": {},
   "outputs": [
    {
     "data": {
      "text/html": [
       "<div>\n",
       "<style scoped>\n",
       "    .dataframe tbody tr th:only-of-type {\n",
       "        vertical-align: middle;\n",
       "    }\n",
       "\n",
       "    .dataframe tbody tr th {\n",
       "        vertical-align: top;\n",
       "    }\n",
       "\n",
       "    .dataframe thead th {\n",
       "        text-align: right;\n",
       "    }\n",
       "</style>\n",
       "<table border=\"1\" class=\"dataframe\">\n",
       "  <thead>\n",
       "    <tr style=\"text-align: right;\">\n",
       "      <th></th>\n",
       "      <th>Course Name</th>\n",
       "      <th>Timestamp</th>\n",
       "      <th>Rating</th>\n",
       "      <th>Comment</th>\n",
       "    </tr>\n",
       "  </thead>\n",
       "  <tbody>\n",
       "    <tr>\n",
       "      <th>3065</th>\n",
       "      <td>Interactive Data Visualization with Python and...</td>\n",
       "      <td>2020-12-30 23:28:34+00:00</td>\n",
       "      <td>3.0</td>\n",
       "      <td>NaN</td>\n",
       "    </tr>\n",
       "    <tr>\n",
       "      <th>3066</th>\n",
       "      <td>The Python Mega Course: Build 10 Real World Ap...</td>\n",
       "      <td>2020-12-30 22:59:02+00:00</td>\n",
       "      <td>4.0</td>\n",
       "      <td>NaN</td>\n",
       "    </tr>\n",
       "    <tr>\n",
       "      <th>3067</th>\n",
       "      <td>The Python Mega Course: Build 10 Real World Ap...</td>\n",
       "      <td>2020-12-30 22:40:10+00:00</td>\n",
       "      <td>4.5</td>\n",
       "      <td>NaN</td>\n",
       "    </tr>\n",
       "    <tr>\n",
       "      <th>3068</th>\n",
       "      <td>The Python Mega Course: Build 10 Real World Ap...</td>\n",
       "      <td>2020-12-30 21:56:41+00:00</td>\n",
       "      <td>4.5</td>\n",
       "      <td>NaN</td>\n",
       "    </tr>\n",
       "    <tr>\n",
       "      <th>3069</th>\n",
       "      <td>The Python Mega Course: Build 10 Real World Ap...</td>\n",
       "      <td>2020-12-30 21:14:34+00:00</td>\n",
       "      <td>4.5</td>\n",
       "      <td>NaN</td>\n",
       "    </tr>\n",
       "    <tr>\n",
       "      <th>...</th>\n",
       "      <td>...</td>\n",
       "      <td>...</td>\n",
       "      <td>...</td>\n",
       "      <td>...</td>\n",
       "    </tr>\n",
       "    <tr>\n",
       "      <th>9729</th>\n",
       "      <td>The Python Mega Course: Build 10 Real World Ap...</td>\n",
       "      <td>2020-07-01 03:09:44+00:00</td>\n",
       "      <td>3.5</td>\n",
       "      <td>NaN</td>\n",
       "    </tr>\n",
       "    <tr>\n",
       "      <th>9730</th>\n",
       "      <td>The Python Mega Course: Build 10 Real World Ap...</td>\n",
       "      <td>2020-07-01 03:09:12+00:00</td>\n",
       "      <td>5.0</td>\n",
       "      <td>NaN</td>\n",
       "    </tr>\n",
       "    <tr>\n",
       "      <th>9731</th>\n",
       "      <td>The Python Mega Course: Build 10 Real World Ap...</td>\n",
       "      <td>2020-07-01 02:40:58+00:00</td>\n",
       "      <td>4.0</td>\n",
       "      <td>NaN</td>\n",
       "    </tr>\n",
       "    <tr>\n",
       "      <th>9732</th>\n",
       "      <td>The Python Mega Course: Build 10 Real World Ap...</td>\n",
       "      <td>2020-07-01 02:04:02+00:00</td>\n",
       "      <td>5.0</td>\n",
       "      <td>nice</td>\n",
       "    </tr>\n",
       "    <tr>\n",
       "      <th>9733</th>\n",
       "      <td>The Python Mega Course: Build 10 Real World Ap...</td>\n",
       "      <td>2020-07-01 00:01:34+00:00</td>\n",
       "      <td>2.0</td>\n",
       "      <td>Hard to follow if u have no experience program...</td>\n",
       "    </tr>\n",
       "  </tbody>\n",
       "</table>\n",
       "<p>6669 rows × 4 columns</p>\n",
       "</div>"
      ],
      "text/plain": [
       "                                            Course Name  \\\n",
       "3065  Interactive Data Visualization with Python and...   \n",
       "3066  The Python Mega Course: Build 10 Real World Ap...   \n",
       "3067  The Python Mega Course: Build 10 Real World Ap...   \n",
       "3068  The Python Mega Course: Build 10 Real World Ap...   \n",
       "3069  The Python Mega Course: Build 10 Real World Ap...   \n",
       "...                                                 ...   \n",
       "9729  The Python Mega Course: Build 10 Real World Ap...   \n",
       "9730  The Python Mega Course: Build 10 Real World Ap...   \n",
       "9731  The Python Mega Course: Build 10 Real World Ap...   \n",
       "9732  The Python Mega Course: Build 10 Real World Ap...   \n",
       "9733  The Python Mega Course: Build 10 Real World Ap...   \n",
       "\n",
       "                     Timestamp  Rating  \\\n",
       "3065 2020-12-30 23:28:34+00:00     3.0   \n",
       "3066 2020-12-30 22:59:02+00:00     4.0   \n",
       "3067 2020-12-30 22:40:10+00:00     4.5   \n",
       "3068 2020-12-30 21:56:41+00:00     4.5   \n",
       "3069 2020-12-30 21:14:34+00:00     4.5   \n",
       "...                        ...     ...   \n",
       "9729 2020-07-01 03:09:44+00:00     3.5   \n",
       "9730 2020-07-01 03:09:12+00:00     5.0   \n",
       "9731 2020-07-01 02:40:58+00:00     4.0   \n",
       "9732 2020-07-01 02:04:02+00:00     5.0   \n",
       "9733 2020-07-01 00:01:34+00:00     2.0   \n",
       "\n",
       "                                                Comment  \n",
       "3065                                                NaN  \n",
       "3066                                                NaN  \n",
       "3067                                                NaN  \n",
       "3068                                                NaN  \n",
       "3069                                                NaN  \n",
       "...                                                 ...  \n",
       "9729                                                NaN  \n",
       "9730                                                NaN  \n",
       "9731                                                NaN  \n",
       "9732                                               nice  \n",
       "9733  Hard to follow if u have no experience program...  \n",
       "\n",
       "[6669 rows x 4 columns]"
      ]
     },
     "execution_count": 20,
     "metadata": {},
     "output_type": "execute_result"
    }
   ],
   "source": [
    "dt[(dt['Timestamp'] >= datetime(2020,7,1, tzinfo= utc)) & (dt['Timestamp'] <= datetime(2020,12,31, tzinfo= utc))]"
   ]
  },
  {
   "cell_type": "markdown",
   "id": "a70fd844-449d-402f-bf4d-e2698e5ae57c",
   "metadata": {},
   "source": [
    "## Datos de informacion"
   ]
  },
  {
   "cell_type": "code",
   "execution_count": 30,
   "id": "b3645259-0654-478c-8cec-4cb08356a201",
   "metadata": {},
   "outputs": [
    {
     "data": {
      "text/html": [
       "<div>\n",
       "<style scoped>\n",
       "    .dataframe tbody tr th:only-of-type {\n",
       "        vertical-align: middle;\n",
       "    }\n",
       "\n",
       "    .dataframe tbody tr th {\n",
       "        vertical-align: top;\n",
       "    }\n",
       "\n",
       "    .dataframe thead th {\n",
       "        text-align: right;\n",
       "    }\n",
       "</style>\n",
       "<table border=\"1\" class=\"dataframe\">\n",
       "  <thead>\n",
       "    <tr style=\"text-align: right;\">\n",
       "      <th></th>\n",
       "      <th>Course Name</th>\n",
       "      <th>Timestamp</th>\n",
       "      <th>Rating</th>\n",
       "      <th>Comment</th>\n",
       "    </tr>\n",
       "  </thead>\n",
       "  <tbody>\n",
       "    <tr>\n",
       "      <th>0</th>\n",
       "      <td>The Python Mega Course: Build 10 Real World Ap...</td>\n",
       "      <td>2021-04-02 06:25:52+00:00</td>\n",
       "      <td>4.0</td>\n",
       "      <td>NaN</td>\n",
       "    </tr>\n",
       "    <tr>\n",
       "      <th>1</th>\n",
       "      <td>The Python Mega Course: Build 10 Real World Ap...</td>\n",
       "      <td>2021-04-02 05:12:34+00:00</td>\n",
       "      <td>4.0</td>\n",
       "      <td>NaN</td>\n",
       "    </tr>\n",
       "    <tr>\n",
       "      <th>2</th>\n",
       "      <td>The Python Mega Course: Build 10 Real World Ap...</td>\n",
       "      <td>2021-04-02 05:11:03+00:00</td>\n",
       "      <td>4.0</td>\n",
       "      <td>NaN</td>\n",
       "    </tr>\n",
       "    <tr>\n",
       "      <th>3</th>\n",
       "      <td>The Python Mega Course: Build 10 Real World Ap...</td>\n",
       "      <td>2021-04-02 03:33:24+00:00</td>\n",
       "      <td>5.0</td>\n",
       "      <td>NaN</td>\n",
       "    </tr>\n",
       "    <tr>\n",
       "      <th>4</th>\n",
       "      <td>The Python Mega Course: Build 10 Real World Ap...</td>\n",
       "      <td>2021-04-02 03:31:49+00:00</td>\n",
       "      <td>4.5</td>\n",
       "      <td>NaN</td>\n",
       "    </tr>\n",
       "  </tbody>\n",
       "</table>\n",
       "</div>"
      ],
      "text/plain": [
       "                                         Course Name  \\\n",
       "0  The Python Mega Course: Build 10 Real World Ap...   \n",
       "1  The Python Mega Course: Build 10 Real World Ap...   \n",
       "2  The Python Mega Course: Build 10 Real World Ap...   \n",
       "3  The Python Mega Course: Build 10 Real World Ap...   \n",
       "4  The Python Mega Course: Build 10 Real World Ap...   \n",
       "\n",
       "                  Timestamp  Rating Comment  \n",
       "0 2021-04-02 06:25:52+00:00     4.0     NaN  \n",
       "1 2021-04-02 05:12:34+00:00     4.0     NaN  \n",
       "2 2021-04-02 05:11:03+00:00     4.0     NaN  \n",
       "3 2021-04-02 03:33:24+00:00     5.0     NaN  \n",
       "4 2021-04-02 03:31:49+00:00     4.5     NaN  "
      ]
     },
     "execution_count": 30,
     "metadata": {},
     "output_type": "execute_result"
    }
   ],
   "source": [
    "dt.head()"
   ]
  },
  {
   "cell_type": "code",
   "execution_count": 31,
   "id": "618e1cd4-3a6c-41dc-9015-04d03bad3d8f",
   "metadata": {},
   "outputs": [
    {
     "data": {
      "text/plain": [
       "4.442155555555556"
      ]
     },
     "execution_count": 31,
     "metadata": {},
     "output_type": "execute_result"
    }
   ],
   "source": [
    "dt['Rating'].mean()"
   ]
  },
  {
   "cell_type": "code",
   "execution_count": 32,
   "id": "13fb8e69-0b1e-4e7a-8ea0-ac477bdf8b2e",
   "metadata": {},
   "outputs": [
    {
     "data": {
      "text/plain": [
       "4.477270180942244"
      ]
     },
     "execution_count": 32,
     "metadata": {},
     "output_type": "execute_result"
    }
   ],
   "source": [
    "dt[dt['Course Name']=='The Python Mega Course: Build 10 Real World Applications']['Rating'].mean()"
   ]
  },
  {
   "cell_type": "code",
   "execution_count": 33,
   "id": "1a7972ba-d758-43ac-9c0e-ac091d966c2f",
   "metadata": {},
   "outputs": [
    {
     "data": {
      "text/plain": [
       "16561"
      ]
     },
     "execution_count": 33,
     "metadata": {},
     "output_type": "execute_result"
    }
   ],
   "source": [
    "dt[(dt['Timestamp'] >= datetime(2020,1,1, tzinfo= utc)) &\n",
    "(dt['Timestamp'] <= datetime(2020,12,31, tzinfo= utc))]['Rating'].count()"
   ]
  },
  {
   "cell_type": "code",
   "execution_count": 35,
   "id": "696cdfed-d709-495c-9278-2aeac2b853e4",
   "metadata": {},
   "outputs": [
    {
     "data": {
      "text/plain": [
       "4.433679746603492"
      ]
     },
     "execution_count": 35,
     "metadata": {},
     "output_type": "execute_result"
    }
   ],
   "source": [
    "dt[dt['Comment'].isnull()]['Rating'].mean()"
   ]
  },
  {
   "cell_type": "code",
   "execution_count": 40,
   "id": "471a1631-769a-453a-a415-ae75720df7b1",
   "metadata": {},
   "outputs": [
    {
     "data": {
      "text/plain": [
       "6799"
      ]
     },
     "execution_count": 40,
     "metadata": {},
     "output_type": "execute_result"
    }
   ],
   "source": [
    "d2 =dt[dt['Comment'].notnull()]['Rating'].count()\n",
    "d2"
   ]
  },
  {
   "cell_type": "code",
   "execution_count": 41,
   "id": "01d6383f-aa24-4eb7-8b37-970a736c1eb2",
   "metadata": {},
   "outputs": [
    {
     "data": {
      "text/plain": [
       "38201"
      ]
     },
     "execution_count": 41,
     "metadata": {},
     "output_type": "execute_result"
    }
   ],
   "source": [
    "d3=dt[dt['Comment'].isnull()]['Rating'].count()\n",
    "d3"
   ]
  },
  {
   "cell_type": "code",
   "execution_count": 43,
   "id": "731c7ec6-89bb-47c2-9994-93792e683100",
   "metadata": {},
   "outputs": [
    {
     "data": {
      "text/plain": [
       "45000"
      ]
     },
     "execution_count": 43,
     "metadata": {},
     "output_type": "execute_result"
    }
   ],
   "source": [
    "d4 = d2 + d3\n",
    "d4"
   ]
  },
  {
   "cell_type": "code",
   "execution_count": null,
   "id": "5f88eec9-c1aa-458b-b8cc-014b136956f0",
   "metadata": {},
   "outputs": [],
   "source": [
    "share = dt.groupby(['Course Name'])['Rating'].count()\n",
    "share"
   ]
  },
  {
   "cell_type": "code",
   "execution_count": 1,
   "id": "2cd40561",
   "metadata": {},
   "outputs": [
    {
     "ename": "NameError",
     "evalue": "name 'plt' is not defined",
     "output_type": "error",
     "traceback": [
      "\u001b[1;31m---------------------------------------------------------------------------\u001b[0m",
      "\u001b[1;31mNameError\u001b[0m                                 Traceback (most recent call last)",
      "Cell \u001b[1;32mIn[1], line 1\u001b[0m\n\u001b[1;32m----> 1\u001b[0m plt\u001b[38;5;241m.\u001b[39mpie(share, labels\u001b[38;5;241m=\u001b[39mshare\u001b[38;5;241m.\u001b[39mindex)\n",
      "\u001b[1;31mNameError\u001b[0m: name 'plt' is not defined"
     ]
    }
   ],
   "source": [
    "plt.pie(share, labels=share.index)"
   ]
  }
 ],
 "metadata": {
  "kernelspec": {
   "display_name": "Python 3 (ipykernel)",
   "language": "python",
   "name": "python3"
  },
  "language_info": {
   "codemirror_mode": {
    "name": "ipython",
    "version": 3
   },
   "file_extension": ".py",
   "mimetype": "text/x-python",
   "name": "python",
   "nbconvert_exporter": "python",
   "pygments_lexer": "ipython3",
   "version": "3.11.7"
  }
 },
 "nbformat": 4,
 "nbformat_minor": 5
}
